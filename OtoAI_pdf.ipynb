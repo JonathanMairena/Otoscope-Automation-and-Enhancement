{
 "cells": [
  {
   "cell_type": "code",
   "execution_count": 5,
   "metadata": {},
   "outputs": [
    {
     "data": {
      "text/plain": [
       "''"
      ]
     },
     "execution_count": 5,
     "metadata": {},
     "output_type": "execute_result"
    },
    {
     "data": {
      "image/png": "[encoded data removed]",
      "text/plain": [
       "<Figure size 432x288 with 1 Axes>"
      ]
     },
     "metadata": {
      "needs_background": "light"
     },
     "output_type": "display_data"
    }
   ],
   "source": [
    "import pandas as pd\n",
    "import matplotlib\n",
    "from pylab import title, figure, xlabel, ylabel, xticks, bar, legend, axis, savefig\n",
    "from fpdf import FPDF\n",
    "from PIL import Image\n",
    "\n",
    "\n",
    "df = pd.DataFrame()\n",
    "df['Question'] = [\"Q1\", \"Q2\", \"Q3\", \"Q4\"]\n",
    "df['Charles'] = [3, 4, 5, 3]\n",
    "df['Mike'] = [3, 3, 4, 4]\n",
    "\n",
    "title(\"Professor Criss's Ratings by Users\")\n",
    "xlabel('Question Number')\n",
    "ylabel('Score')\n",
    "\n",
    "c = [2.0, 4.0, 6.0, 8.0]\n",
    "m = [x - 0.5 for x in c]\n",
    "\n",
    "xticks(c, df['Question'])\n",
    "\n",
    "bar(m, df['Mike'], width=0.5, color=\"#91eb87\", label=\"Mike\")\n",
    "bar(c, df['Charles'], width=0.5, color=\"#eb879c\", label=\"Charles\")\n",
    "\n",
    "legend()\n",
    "axis([0, 10, 0, 8])\n",
    "savefig('barchart.png')\n",
    "\n",
    "pdf = FPDF()\n",
    "pdf.add_page()\n",
    "pdf.set_xy(0, 0)\n",
    "pdf.set_font('arial', 'B', 12)\n",
    "pdf.cell(60)\n",
    "pdf.cell(75, 10, \"A Tabular and Graphical Report of Professor Criss's Ratings by Users Charles and Mike\", 0, 2, 'C')\n",
    "pdf.cell(90, 10, \" \", 0, 2, 'C')\n",
    "pdf.cell(-40)\n",
    "pdf.cell(50, 10, 'Question', 1, 0, 'C')\n",
    "pdf.cell(40, 10, 'Charles', 1, 0, 'C')\n",
    "pdf.cell(40, 10, 'Mike', 1, 2, 'C')\n",
    "pdf.cell(-90)\n",
    "pdf.set_font('arial', '', 12)\n",
    "for i in range(0, len(df)):\n",
    "    pdf.cell(50, 10, '%s' % (df['Question'].iloc[i]), 1, 0, 'C')\n",
    "    pdf.cell(40, 10, '%s' % (str(df.Mike.iloc[i])), 1, 0, 'C')\n",
    "    pdf.cell(40, 10, '%s' % (str(df.Charles.iloc[i])), 1, 2, 'C')\n",
    "    pdf.cell(-90)\n",
    "pdf.cell(90, 10, \" \", 0, 2, 'C')\n",
    "pdf.cell(-30)\n",
    "pdf.image('barchart.png', x = None, y = None, w = 0, h = 0, type = '', link = '')\n",
    "pdf.output('test.pdf', 'F')"
   ]
  },
  {
   "cell_type": "code",
   "execution_count": 34,
   "metadata": {},
   "outputs": [],
   "source": [
    "import pandas as pd\n",
    "import matplotlib\n",
    "from pylab import title, figure, xlabel, ylabel, xticks, bar, legend, axis, savefig\n",
    "from fpdf import FPDF\n",
    "from PIL import Image\n",
    "\n",
    "def pdfgenerator(image,data):\n",
    "    image = Image.open(image)\n",
    "    new_image = image.resize((400, 400))\n",
    "    new_image.save('image2.jpg')\n",
    "\n",
    "    if (data == 1):\n",
    "        classifier = 'Normal'\n",
    "        action = 'Stay at home'\n",
    "    else:\n",
    "        classifier = 'Abnormal'\n",
    "        action = 'Please see your PCP'\n",
    "        \n",
    "    \n",
    "    pdf = FPDF()\n",
    "    pdf.add_page()\n",
    "    pdf.set_xy(0, 0)\n",
    "    pdf.set_font('arial', 'B', 12)\n",
    "    pdf.cell(60)\n",
    "    pdf.cell(100, 10, \"OtoAI Ear Exam Results and Preliminary Diagnoses\", 0, 2, 'C')\n",
    "    pdf.cell(90, 10, \" \", 0, 2, 'C')\n",
    "    pdf.cell(-40)\n",
    "    pdf.cell(60, 10, 'Preliminary Diagnosis', 1, 0, 'C')\n",
    "    pdf.cell(60, 10, 'Percent Confidence', 1, 0, 'C')\n",
    "    pdf.cell(60, 10, 'Special Instructions', 1, 2, 'C')\n",
    "    pdf.cell(-120)\n",
    "    pdf.set_font('arial', '', 12)\n",
    "    pdf.cell(60, 10, '%s' % classifier, 1, 0, 'C')\n",
    "    pdf.cell(60, 10, '%s' % '85%', 1, 0, 'C')\n",
    "    pdf.cell(60, 10, '%s' % action, 1, 2, 'C')\n",
    "    pdf.cell(-70)\n",
    "    pdf.cell(90, 10, \" \", 0, 2, 'C')\n",
    "    pdf.cell(-30)\n",
    "    pdf.image('image2.jpg', x = None, y = None, w = 0, h = 0, type = '', link = '')\n",
    "    pdf.output('output.pdf', 'F')\n",
    "    \n",
    "pdfgenerator('earpicpdf.jpg',1)"
   ]
  },
  {
   "cell_type": "code",
   "execution_count": null,
   "metadata": {},
   "outputs": [],
   "source": []
  }
 ],
 "metadata": {
  "kernelspec": {
   "display_name": "Python 3",
   "language": "python",
   "name": "python3"
  },
  "language_info": {
   "codemirror_mode": {
    "name": "ipython",
    "version": 3
   },
   "file_extension": ".py",
   "mimetype": "text/x-python",
   "name": "python",
   "nbconvert_exporter": "python",
   "pygments_lexer": "ipython3",
   "version": "3.7.1"
  }
 },
 "nbformat": 4,
 "nbformat_minor": 2
}
