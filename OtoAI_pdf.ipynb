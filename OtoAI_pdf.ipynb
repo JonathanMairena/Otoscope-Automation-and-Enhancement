{
 "cells": [
  {
   "cell_type": "code",
   "execution_count": 35,
   "metadata": {},
   "outputs": [],
   "source": [
    "import pandas as pd\n",
    "import matplotlib\n",
    "from pylab import title, figure, xlabel, ylabel, xticks, bar, legend, axis, savefig\n",
    "from fpdf import FPDF\n",
    "from PIL import Image\n",
    "\n",
    "def pdfgenerator(image,data):\n",
    "    image = Image.open(image)\n",
    "    new_image = image.resize((400, 400))\n",
    "    new_image.save('image2.jpg')\n",
    "\n",
    "    if (data == 1):\n",
    "        classifier = 'Normal'\n",
    "        action = 'Stay at home'\n",
    "    else:\n",
    "        classifier = 'Abnormal'\n",
    "        action = 'Please see your PCP'\n",
    "        \n",
    "    \n",
    "    pdf = FPDF()\n",
    "    pdf.add_page()\n",
    "    pdf.set_xy(0, 0)\n",
    "    pdf.set_font('arial', 'B', 12)\n",
    "    pdf.cell(60)\n",
    "    pdf.cell(100, 10, \"OtoAI Ear Exam Results and Preliminary Diagnoses\", 0, 2, 'C')\n",
    "    pdf.cell(90, 10, \" \", 0, 2, 'C')\n",
    "    pdf.cell(-40)\n",
    "    pdf.cell(60, 10, 'Preliminary Diagnosis', 1, 0, 'C')\n",
    "    pdf.cell(60, 10, 'Percent Confidence', 1, 0, 'C')\n",
    "    pdf.cell(60, 10, 'Special Instructions', 1, 2, 'C')\n",
    "    pdf.cell(-120)\n",
    "    pdf.set_font('arial', '', 12)\n",
    "    pdf.cell(60, 10, '%s' % classifier, 1, 0, 'C')\n",
    "    pdf.cell(60, 10, '%s' % '85%', 1, 0, 'C')\n",
    "    pdf.cell(60, 10, '%s' % action, 1, 2, 'C')\n",
    "    pdf.cell(-70)\n",
    "    pdf.cell(90, 10, \" \", 0, 2, 'C')\n",
    "    pdf.cell(-30)\n",
    "    pdf.image('image2.jpg', x = None, y = None, w = 0, h = 0, type = '', link = '')\n",
    "    pdf.output('output.pdf', 'F')\n",
    "    \n",
    "pdfgenerator('earpicpdf.jpg',1)"
   ]
  },
  {
   "cell_type": "code",
   "execution_count": null,
   "metadata": {},
   "outputs": [],
   "source": []
  },
  {
   "cell_type": "code",
   "execution_count": null,
   "metadata": {},
   "outputs": [],
   "source": []
  }
 ],
 "metadata": {
  "kernelspec": {
   "display_name": "Python 3",
   "language": "python",
   "name": "python3"
  },
  "language_info": {
   "codemirror_mode": {
    "name": "ipython",
    "version": 3
   },
   "file_extension": ".py",
   "mimetype": "text/x-python",
   "name": "python",
   "nbconvert_exporter": "python",
   "pygments_lexer": "ipython3",
   "version": "3.7.1"
  }
 },
 "nbformat": 4,
 "nbformat_minor": 2
}
